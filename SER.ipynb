{
 "cells": [
  {
   "cell_type": "code",
   "execution_count": 15,
   "id": "fcaf7648",
   "metadata": {
    "tags": []
   },
   "outputs": [],
   "source": [
    "import numpy as np\n",
    "import pandas as pd\n",
    "import os\n",
    "import seaborn as sns\n",
    "import matplotlib.pyplot as plt\n",
    "import librosa\n",
    "import librosa.display\n",
    "from IPython.display import Audio\n",
    "import warnings\n",
    "warnings.filterwarnings('ignore')"
   ]
  },
  {
   "cell_type": "markdown",
   "id": "3c2dd2a1-5145-432a-afcd-3b8bf995b75b",
   "metadata": {},
   "source": [
    "## Loading the Dataset"
   ]
  },
  {
   "cell_type": "markdown",
   "id": "eadfb479-e6ac-428f-aec5-5888542f1bd8",
   "metadata": {},
   "source": [
    "We define a helper function load_data_path() to load the dataset. A Folder in the dataset is labelled as OAF_Emotion/YAF_Emotion. This function will help us to add the file path along with the extracted associated emotion of that file. "
   ]
  },
  {
   "cell_type": "code",
   "execution_count": 16,
   "id": "2b08dae3",
   "metadata": {
    "tags": []
   },
   "outputs": [],
   "source": [
    "def load_data_path(dataset_path):\n",
    "    emotions = {'angry':0,'disgust':1,'fear':2,'happy':3,'neutral':4,'ps':5,'sad':6}\n",
    "    file_paths = []\n",
    "    labels = []\n",
    "    \n",
    "    for root,_,files in os.walk(dataset_path):\n",
    "        for file in files:\n",
    "            if file.endswith(\".wav\"):\n",
    "                file_path = os.path.join(root,file)\n",
    "                emotion = root.split('_')[-1]\n",
    "                if emotion in emotions:\n",
    "                    file_paths.append(file_path)\n",
    "                    labels.append(emotions[emotion])\n",
    "    return file_paths,labels\n",
    "\n",
    "dataset_path  = '/Users/gaayatripradeep/Desktop/Projects/Speech Emotion Recognition/TESS'\n",
    "\n",
    "# Load data paths and labels\n",
    "file_paths, labels = load_data_path(dataset_path)"
   ]
  },
  {
   "cell_type": "markdown",
   "id": "1db73763-9b1f-4819-adce-4fb3790a1162",
   "metadata": {},
   "source": [
    "We convert the dataset into a dataframe by using the pandas DataFrame() method"
   ]
  },
  {
   "cell_type": "code",
   "execution_count": 46,
   "id": "7061657f-be36-4183-8c84-4a788431d146",
   "metadata": {
    "tags": []
   },
   "outputs": [],
   "source": [
    "data_df = pd.DataFrame({\n",
    "    'file_path': file_paths,\n",
    "    'label': labels\n",
    "})"
   ]
  },
  {
   "cell_type": "code",
   "execution_count": 47,
   "id": "718c509e-c6fa-4669-acfb-c47f33e27529",
   "metadata": {
    "tags": []
   },
   "outputs": [
    {
     "data": {
      "text/html": [
       "<div>\n",
       "<style scoped>\n",
       "    .dataframe tbody tr th:only-of-type {\n",
       "        vertical-align: middle;\n",
       "    }\n",
       "\n",
       "    .dataframe tbody tr th {\n",
       "        vertical-align: top;\n",
       "    }\n",
       "\n",
       "    .dataframe thead th {\n",
       "        text-align: right;\n",
       "    }\n",
       "</style>\n",
       "<table border=\"1\" class=\"dataframe\">\n",
       "  <thead>\n",
       "    <tr style=\"text-align: right;\">\n",
       "      <th></th>\n",
       "      <th>file_path</th>\n",
       "      <th>label</th>\n",
       "    </tr>\n",
       "  </thead>\n",
       "  <tbody>\n",
       "    <tr>\n",
       "      <th>0</th>\n",
       "      <td>/Users/gaayatripradeep/Desktop/Projects/Speech...</td>\n",
       "      <td>1</td>\n",
       "    </tr>\n",
       "    <tr>\n",
       "      <th>1</th>\n",
       "      <td>/Users/gaayatripradeep/Desktop/Projects/Speech...</td>\n",
       "      <td>1</td>\n",
       "    </tr>\n",
       "    <tr>\n",
       "      <th>2</th>\n",
       "      <td>/Users/gaayatripradeep/Desktop/Projects/Speech...</td>\n",
       "      <td>1</td>\n",
       "    </tr>\n",
       "    <tr>\n",
       "      <th>3</th>\n",
       "      <td>/Users/gaayatripradeep/Desktop/Projects/Speech...</td>\n",
       "      <td>1</td>\n",
       "    </tr>\n",
       "    <tr>\n",
       "      <th>4</th>\n",
       "      <td>/Users/gaayatripradeep/Desktop/Projects/Speech...</td>\n",
       "      <td>1</td>\n",
       "    </tr>\n",
       "    <tr>\n",
       "      <th>...</th>\n",
       "      <td>...</td>\n",
       "      <td>...</td>\n",
       "    </tr>\n",
       "    <tr>\n",
       "      <th>2795</th>\n",
       "      <td>/Users/gaayatripradeep/Desktop/Projects/Speech...</td>\n",
       "      <td>6</td>\n",
       "    </tr>\n",
       "    <tr>\n",
       "      <th>2796</th>\n",
       "      <td>/Users/gaayatripradeep/Desktop/Projects/Speech...</td>\n",
       "      <td>6</td>\n",
       "    </tr>\n",
       "    <tr>\n",
       "      <th>2797</th>\n",
       "      <td>/Users/gaayatripradeep/Desktop/Projects/Speech...</td>\n",
       "      <td>6</td>\n",
       "    </tr>\n",
       "    <tr>\n",
       "      <th>2798</th>\n",
       "      <td>/Users/gaayatripradeep/Desktop/Projects/Speech...</td>\n",
       "      <td>6</td>\n",
       "    </tr>\n",
       "    <tr>\n",
       "      <th>2799</th>\n",
       "      <td>/Users/gaayatripradeep/Desktop/Projects/Speech...</td>\n",
       "      <td>6</td>\n",
       "    </tr>\n",
       "  </tbody>\n",
       "</table>\n",
       "<p>2800 rows × 2 columns</p>\n",
       "</div>"
      ],
      "text/plain": [
       "                                              file_path  label\n",
       "0     /Users/gaayatripradeep/Desktop/Projects/Speech...      1\n",
       "1     /Users/gaayatripradeep/Desktop/Projects/Speech...      1\n",
       "2     /Users/gaayatripradeep/Desktop/Projects/Speech...      1\n",
       "3     /Users/gaayatripradeep/Desktop/Projects/Speech...      1\n",
       "4     /Users/gaayatripradeep/Desktop/Projects/Speech...      1\n",
       "...                                                 ...    ...\n",
       "2795  /Users/gaayatripradeep/Desktop/Projects/Speech...      6\n",
       "2796  /Users/gaayatripradeep/Desktop/Projects/Speech...      6\n",
       "2797  /Users/gaayatripradeep/Desktop/Projects/Speech...      6\n",
       "2798  /Users/gaayatripradeep/Desktop/Projects/Speech...      6\n",
       "2799  /Users/gaayatripradeep/Desktop/Projects/Speech...      6\n",
       "\n",
       "[2800 rows x 2 columns]"
      ]
     },
     "execution_count": 47,
     "metadata": {},
     "output_type": "execute_result"
    }
   ],
   "source": [
    "data_df"
   ]
  },
  {
   "cell_type": "markdown",
   "id": "a96d8acf-d2b3-4209-8b96-85fe6941c11e",
   "metadata": {},
   "source": [
    "Visualizing the different labels in the dataset using a barplot. There are a total of 2800 files with 7 Emotions.\n",
    "The emotions are :\n",
    "- Angry\n",
    "- Disgust\n",
    "- Fear\n",
    "- Happy\n",
    "- Neutral\n",
    "- Pleasant Surprise\n",
    "- Sad\n",
    "\n"
   ]
  },
  {
   "cell_type": "code",
   "execution_count": 19,
   "id": "e3715116-a0c2-4892-aeed-f705a8eed8de",
   "metadata": {
    "tags": []
   },
   "outputs": [
    {
     "data": {
      "image/png": "[encoded data removed]",
      "text/plain": [
       "<Figure size 1000x600 with 1 Axes>"
      ]
     },
     "metadata": {},
     "output_type": "display_data"
    }
   ],
   "source": [
    "label_counts = data_df['label'].value_counts().sort_index()\n",
    "label_names = {0: 'angry', 1: 'disgust', 2: 'fear', 3: 'happy', 4: 'neutral', 5: 'pleasant_surprise', 6: 'sad'}\n",
    "label_counts.index = label_counts.index.map(label_names)\n",
    "\n",
    "# Define colors for each emotion\n",
    "emotion_colors = {\n",
    "    'angry': '#FF80ED',       # Pink\n",
    "    'disgust': '#6495ED',     # Cornflower blue\n",
    "    'fear': '#7D3C98',        # Purple\n",
    "    'happy': '#F4D03F',       # Yellow\n",
    "    'neutral': '#85C1E9',     # Light blue\n",
    "    'pleasant_surprise': '#58D68D',  # Sea green\n",
    "    'sad': '#5DADE2'          # Sky blue\n",
    "}\n",
    "    \n",
    "\n",
    "plt.figure(figsize=(10, 6))\n",
    "bars = plt.bar(label_counts.index, label_counts.values, color=[emotion_colors[label] for label in label_counts.index])\n",
    "\n",
    "plt.title('Count of Each Emotion in the TESS Dataset')\n",
    "plt.xlabel('Emotion')\n",
    "plt.ylabel('Count')\n",
    "plt.xticks(rotation=45)\n",
    "plt.show()"
   ]
  },
  {
   "cell_type": "code",
   "execution_count": 20,
   "id": "9afdcad7-57eb-4799-ac12-2adbe1ba5fe0",
   "metadata": {
    "tags": []
   },
   "outputs": [
    {
     "data": {
      "text/plain": [
       "(2800, 2)"
      ]
     },
     "execution_count": 20,
     "metadata": {},
     "output_type": "execute_result"
    }
   ],
   "source": [
    "data_df.shape"
   ]
  },
  {
   "cell_type": "markdown",
   "id": "b94fd3b0-6e0a-4358-a89c-aca1f97a7d65",
   "metadata": {},
   "source": [
    "## Feature Extraction"
   ]
  },
  {
   "cell_type": "code",
   "execution_count": 21,
   "id": "4bd98753-1549-4116-8ce3-c699fdcff0e6",
   "metadata": {
    "tags": []
   },
   "outputs": [],
   "source": [
    "def extract_features(file_path):\n",
    "    audio, sample_rate = librosa.load(file_path, res_type='kaiser_fast')\n",
    "    mfccs = librosa.feature.mfcc(y=audio, sr=sample_rate, n_mfcc=40)\n",
    "    mfccs_scaled = np.mean(mfccs.T, axis=0)\n",
    "    return mfccs_scaled\n"
   ]
  },
  {
   "cell_type": "code",
   "execution_count": 22,
   "id": "d3a0b4d2-f087-459f-85d4-61d340347d53",
   "metadata": {
    "tags": []
   },
   "outputs": [],
   "source": [
    "data_df['features'] = data_df['file_path'].apply(extract_features)\n"
   ]
  },
  {
   "cell_type": "code",
   "execution_count": 23,
   "id": "e47587f4-eb82-4a58-b208-bcac19915b59",
   "metadata": {
    "tags": []
   },
   "outputs": [],
   "source": [
    "features_df = pd.DataFrame(data_df['features'].tolist())\n",
    "features_df['label'] = data_df['label']"
   ]
  },
  {
   "cell_type": "code",
   "execution_count": 24,
   "id": "e92c7f4d-37d4-44f1-a4a8-9dab64351e9c",
   "metadata": {
    "tags": []
   },
   "outputs": [
    {
     "data": {
      "text/html": [
       "<div>\n",
       "<style scoped>\n",
       "    .dataframe tbody tr th:only-of-type {\n",
       "        vertical-align: middle;\n",
       "    }\n",
       "\n",
       "    .dataframe tbody tr th {\n",
       "        vertical-align: top;\n",
       "    }\n",
       "\n",
       "    .dataframe thead th {\n",
       "        text-align: right;\n",
       "    }\n",
       "</style>\n",
       "<table border=\"1\" class=\"dataframe\">\n",
       "  <thead>\n",
       "    <tr style=\"text-align: right;\">\n",
       "      <th></th>\n",
       "      <th>0</th>\n",
       "      <th>1</th>\n",
       "      <th>2</th>\n",
       "      <th>3</th>\n",
       "      <th>4</th>\n",
       "      <th>5</th>\n",
       "      <th>6</th>\n",
       "      <th>7</th>\n",
       "      <th>8</th>\n",
       "      <th>9</th>\n",
       "      <th>...</th>\n",
       "      <th>31</th>\n",
       "      <th>32</th>\n",
       "      <th>33</th>\n",
       "      <th>34</th>\n",
       "      <th>35</th>\n",
       "      <th>36</th>\n",
       "      <th>37</th>\n",
       "      <th>38</th>\n",
       "      <th>39</th>\n",
       "      <th>label</th>\n",
       "    </tr>\n",
       "  </thead>\n",
       "  <tbody>\n",
       "    <tr>\n",
       "      <th>0</th>\n",
       "      <td>-434.340637</td>\n",
       "      <td>61.547073</td>\n",
       "      <td>-5.816717</td>\n",
       "      <td>41.895260</td>\n",
       "      <td>-12.912008</td>\n",
       "      <td>-0.060510</td>\n",
       "      <td>-15.045928</td>\n",
       "      <td>-8.992117</td>\n",
       "      <td>-12.555532</td>\n",
       "      <td>-5.649085</td>\n",
       "      <td>...</td>\n",
       "      <td>5.249766</td>\n",
       "      <td>4.715922</td>\n",
       "      <td>2.899034</td>\n",
       "      <td>5.041161</td>\n",
       "      <td>1.725768</td>\n",
       "      <td>3.401148</td>\n",
       "      <td>2.474581</td>\n",
       "      <td>2.240072</td>\n",
       "      <td>1.373315</td>\n",
       "      <td>1</td>\n",
       "    </tr>\n",
       "    <tr>\n",
       "      <th>1</th>\n",
       "      <td>-388.402496</td>\n",
       "      <td>85.914452</td>\n",
       "      <td>-16.238209</td>\n",
       "      <td>19.381401</td>\n",
       "      <td>-13.622485</td>\n",
       "      <td>-6.053656</td>\n",
       "      <td>-18.407581</td>\n",
       "      <td>-6.018507</td>\n",
       "      <td>-14.872563</td>\n",
       "      <td>2.884473</td>\n",
       "      <td>...</td>\n",
       "      <td>3.281106</td>\n",
       "      <td>-0.167359</td>\n",
       "      <td>-2.203983</td>\n",
       "      <td>4.552181</td>\n",
       "      <td>1.718897</td>\n",
       "      <td>5.090023</td>\n",
       "      <td>2.597453</td>\n",
       "      <td>1.484650</td>\n",
       "      <td>3.428778</td>\n",
       "      <td>1</td>\n",
       "    </tr>\n",
       "    <tr>\n",
       "      <th>2</th>\n",
       "      <td>-413.214386</td>\n",
       "      <td>68.448608</td>\n",
       "      <td>1.465215</td>\n",
       "      <td>22.411884</td>\n",
       "      <td>-10.718843</td>\n",
       "      <td>-3.159255</td>\n",
       "      <td>-15.495169</td>\n",
       "      <td>-8.715068</td>\n",
       "      <td>-17.975111</td>\n",
       "      <td>0.635280</td>\n",
       "      <td>...</td>\n",
       "      <td>3.408362</td>\n",
       "      <td>-0.162028</td>\n",
       "      <td>-1.896779</td>\n",
       "      <td>3.260093</td>\n",
       "      <td>2.984894</td>\n",
       "      <td>6.697448</td>\n",
       "      <td>7.905091</td>\n",
       "      <td>6.874635</td>\n",
       "      <td>6.585638</td>\n",
       "      <td>1</td>\n",
       "    </tr>\n",
       "    <tr>\n",
       "      <th>3</th>\n",
       "      <td>-435.537689</td>\n",
       "      <td>54.987965</td>\n",
       "      <td>-7.957159</td>\n",
       "      <td>36.719688</td>\n",
       "      <td>-15.102768</td>\n",
       "      <td>5.779552</td>\n",
       "      <td>-17.170855</td>\n",
       "      <td>-5.765754</td>\n",
       "      <td>-10.755695</td>\n",
       "      <td>5.679981</td>\n",
       "      <td>...</td>\n",
       "      <td>4.434788</td>\n",
       "      <td>4.081763</td>\n",
       "      <td>3.692878</td>\n",
       "      <td>4.850946</td>\n",
       "      <td>1.470809</td>\n",
       "      <td>3.718441</td>\n",
       "      <td>0.821677</td>\n",
       "      <td>2.027012</td>\n",
       "      <td>-0.065100</td>\n",
       "      <td>1</td>\n",
       "    </tr>\n",
       "    <tr>\n",
       "      <th>4</th>\n",
       "      <td>-414.583313</td>\n",
       "      <td>85.459770</td>\n",
       "      <td>8.327278</td>\n",
       "      <td>5.927553</td>\n",
       "      <td>-8.868082</td>\n",
       "      <td>2.478487</td>\n",
       "      <td>-12.364789</td>\n",
       "      <td>-10.949555</td>\n",
       "      <td>-12.616244</td>\n",
       "      <td>3.694977</td>\n",
       "      <td>...</td>\n",
       "      <td>1.691978</td>\n",
       "      <td>1.643630</td>\n",
       "      <td>1.289320</td>\n",
       "      <td>4.418695</td>\n",
       "      <td>1.711187</td>\n",
       "      <td>3.713825</td>\n",
       "      <td>3.483528</td>\n",
       "      <td>2.428136</td>\n",
       "      <td>2.448528</td>\n",
       "      <td>1</td>\n",
       "    </tr>\n",
       "    <tr>\n",
       "      <th>...</th>\n",
       "      <td>...</td>\n",
       "      <td>...</td>\n",
       "      <td>...</td>\n",
       "      <td>...</td>\n",
       "      <td>...</td>\n",
       "      <td>...</td>\n",
       "      <td>...</td>\n",
       "      <td>...</td>\n",
       "      <td>...</td>\n",
       "      <td>...</td>\n",
       "      <td>...</td>\n",
       "      <td>...</td>\n",
       "      <td>...</td>\n",
       "      <td>...</td>\n",
       "      <td>...</td>\n",
       "      <td>...</td>\n",
       "      <td>...</td>\n",
       "      <td>...</td>\n",
       "      <td>...</td>\n",
       "      <td>...</td>\n",
       "      <td>...</td>\n",
       "    </tr>\n",
       "    <tr>\n",
       "      <th>2795</th>\n",
       "      <td>-557.691895</td>\n",
       "      <td>76.261505</td>\n",
       "      <td>26.812920</td>\n",
       "      <td>21.027245</td>\n",
       "      <td>9.985358</td>\n",
       "      <td>14.419415</td>\n",
       "      <td>-14.963046</td>\n",
       "      <td>-6.008370</td>\n",
       "      <td>-13.508572</td>\n",
       "      <td>11.069413</td>\n",
       "      <td>...</td>\n",
       "      <td>9.778588</td>\n",
       "      <td>10.617232</td>\n",
       "      <td>7.362587</td>\n",
       "      <td>7.727941</td>\n",
       "      <td>0.763118</td>\n",
       "      <td>5.896959</td>\n",
       "      <td>8.215086</td>\n",
       "      <td>6.456235</td>\n",
       "      <td>13.564898</td>\n",
       "      <td>6</td>\n",
       "    </tr>\n",
       "    <tr>\n",
       "      <th>2796</th>\n",
       "      <td>-542.254028</td>\n",
       "      <td>80.854744</td>\n",
       "      <td>26.794289</td>\n",
       "      <td>22.868090</td>\n",
       "      <td>12.850275</td>\n",
       "      <td>23.111471</td>\n",
       "      <td>-0.070058</td>\n",
       "      <td>-7.567317</td>\n",
       "      <td>-11.388877</td>\n",
       "      <td>8.127281</td>\n",
       "      <td>...</td>\n",
       "      <td>11.088556</td>\n",
       "      <td>5.453731</td>\n",
       "      <td>4.719717</td>\n",
       "      <td>3.384792</td>\n",
       "      <td>-1.639035</td>\n",
       "      <td>2.709292</td>\n",
       "      <td>4.313609</td>\n",
       "      <td>6.080122</td>\n",
       "      <td>7.430555</td>\n",
       "      <td>6</td>\n",
       "    </tr>\n",
       "    <tr>\n",
       "      <th>2797</th>\n",
       "      <td>-510.305267</td>\n",
       "      <td>92.528488</td>\n",
       "      <td>19.663439</td>\n",
       "      <td>15.178707</td>\n",
       "      <td>9.632703</td>\n",
       "      <td>15.001949</td>\n",
       "      <td>-16.474386</td>\n",
       "      <td>-10.300098</td>\n",
       "      <td>-11.535367</td>\n",
       "      <td>6.177837</td>\n",
       "      <td>...</td>\n",
       "      <td>5.207996</td>\n",
       "      <td>-1.800246</td>\n",
       "      <td>3.025702</td>\n",
       "      <td>3.039707</td>\n",
       "      <td>7.523179</td>\n",
       "      <td>12.593367</td>\n",
       "      <td>12.249979</td>\n",
       "      <td>10.378396</td>\n",
       "      <td>10.136937</td>\n",
       "      <td>6</td>\n",
       "    </tr>\n",
       "    <tr>\n",
       "      <th>2798</th>\n",
       "      <td>-546.374329</td>\n",
       "      <td>101.403427</td>\n",
       "      <td>30.319857</td>\n",
       "      <td>8.416925</td>\n",
       "      <td>5.852256</td>\n",
       "      <td>15.537525</td>\n",
       "      <td>-18.954216</td>\n",
       "      <td>-9.493547</td>\n",
       "      <td>-13.774308</td>\n",
       "      <td>9.489422</td>\n",
       "      <td>...</td>\n",
       "      <td>7.481854</td>\n",
       "      <td>7.535601</td>\n",
       "      <td>8.790963</td>\n",
       "      <td>11.193414</td>\n",
       "      <td>4.744665</td>\n",
       "      <td>9.385645</td>\n",
       "      <td>11.242495</td>\n",
       "      <td>7.042445</td>\n",
       "      <td>12.690637</td>\n",
       "      <td>6</td>\n",
       "    </tr>\n",
       "    <tr>\n",
       "      <th>2799</th>\n",
       "      <td>-539.783386</td>\n",
       "      <td>87.667892</td>\n",
       "      <td>26.168285</td>\n",
       "      <td>15.645720</td>\n",
       "      <td>13.632487</td>\n",
       "      <td>22.330597</td>\n",
       "      <td>-16.114267</td>\n",
       "      <td>-10.037851</td>\n",
       "      <td>-21.526276</td>\n",
       "      <td>7.026502</td>\n",
       "      <td>...</td>\n",
       "      <td>11.394772</td>\n",
       "      <td>8.087240</td>\n",
       "      <td>1.347740</td>\n",
       "      <td>4.758859</td>\n",
       "      <td>1.921953</td>\n",
       "      <td>2.821352</td>\n",
       "      <td>11.733100</td>\n",
       "      <td>21.268301</td>\n",
       "      <td>20.321768</td>\n",
       "      <td>6</td>\n",
       "    </tr>\n",
       "  </tbody>\n",
       "</table>\n",
       "<p>2800 rows × 41 columns</p>\n",
       "</div>"
      ],
      "text/plain": [
       "               0           1          2          3          4          5  \\\n",
       "0    -434.340637   61.547073  -5.816717  41.895260 -12.912008  -0.060510   \n",
       "1    -388.402496   85.914452 -16.238209  19.381401 -13.622485  -6.053656   \n",
       "2    -413.214386   68.448608   1.465215  22.411884 -10.718843  -3.159255   \n",
       "3    -435.537689   54.987965  -7.957159  36.719688 -15.102768   5.779552   \n",
       "4    -414.583313   85.459770   8.327278   5.927553  -8.868082   2.478487   \n",
       "...          ...         ...        ...        ...        ...        ...   \n",
       "2795 -557.691895   76.261505  26.812920  21.027245   9.985358  14.419415   \n",
       "2796 -542.254028   80.854744  26.794289  22.868090  12.850275  23.111471   \n",
       "2797 -510.305267   92.528488  19.663439  15.178707   9.632703  15.001949   \n",
       "2798 -546.374329  101.403427  30.319857   8.416925   5.852256  15.537525   \n",
       "2799 -539.783386   87.667892  26.168285  15.645720  13.632487  22.330597   \n",
       "\n",
       "              6          7          8          9  ...         31         32  \\\n",
       "0    -15.045928  -8.992117 -12.555532  -5.649085  ...   5.249766   4.715922   \n",
       "1    -18.407581  -6.018507 -14.872563   2.884473  ...   3.281106  -0.167359   \n",
       "2    -15.495169  -8.715068 -17.975111   0.635280  ...   3.408362  -0.162028   \n",
       "3    -17.170855  -5.765754 -10.755695   5.679981  ...   4.434788   4.081763   \n",
       "4    -12.364789 -10.949555 -12.616244   3.694977  ...   1.691978   1.643630   \n",
       "...         ...        ...        ...        ...  ...        ...        ...   \n",
       "2795 -14.963046  -6.008370 -13.508572  11.069413  ...   9.778588  10.617232   \n",
       "2796  -0.070058  -7.567317 -11.388877   8.127281  ...  11.088556   5.453731   \n",
       "2797 -16.474386 -10.300098 -11.535367   6.177837  ...   5.207996  -1.800246   \n",
       "2798 -18.954216  -9.493547 -13.774308   9.489422  ...   7.481854   7.535601   \n",
       "2799 -16.114267 -10.037851 -21.526276   7.026502  ...  11.394772   8.087240   \n",
       "\n",
       "            33         34        35         36         37         38  \\\n",
       "0     2.899034   5.041161  1.725768   3.401148   2.474581   2.240072   \n",
       "1    -2.203983   4.552181  1.718897   5.090023   2.597453   1.484650   \n",
       "2    -1.896779   3.260093  2.984894   6.697448   7.905091   6.874635   \n",
       "3     3.692878   4.850946  1.470809   3.718441   0.821677   2.027012   \n",
       "4     1.289320   4.418695  1.711187   3.713825   3.483528   2.428136   \n",
       "...        ...        ...       ...        ...        ...        ...   \n",
       "2795  7.362587   7.727941  0.763118   5.896959   8.215086   6.456235   \n",
       "2796  4.719717   3.384792 -1.639035   2.709292   4.313609   6.080122   \n",
       "2797  3.025702   3.039707  7.523179  12.593367  12.249979  10.378396   \n",
       "2798  8.790963  11.193414  4.744665   9.385645  11.242495   7.042445   \n",
       "2799  1.347740   4.758859  1.921953   2.821352  11.733100  21.268301   \n",
       "\n",
       "             39  label  \n",
       "0      1.373315      1  \n",
       "1      3.428778      1  \n",
       "2      6.585638      1  \n",
       "3     -0.065100      1  \n",
       "4      2.448528      1  \n",
       "...         ...    ...  \n",
       "2795  13.564898      6  \n",
       "2796   7.430555      6  \n",
       "2797  10.136937      6  \n",
       "2798  12.690637      6  \n",
       "2799  20.321768      6  \n",
       "\n",
       "[2800 rows x 41 columns]"
      ]
     },
     "execution_count": 24,
     "metadata": {},
     "output_type": "execute_result"
    }
   ],
   "source": [
    "features_df"
   ]
  },
  {
   "cell_type": "markdown",
   "id": "63dc6a24-d4aa-4daf-a922-22dc11d53818",
   "metadata": {
    "tags": []
   },
   "source": [
    "## RNN"
   ]
  },
  {
   "cell_type": "code",
   "execution_count": 25,
   "id": "e460a447-bac5-43ee-9c4d-9784214d924b",
   "metadata": {
    "tags": []
   },
   "outputs": [],
   "source": [
    "from sklearn.model_selection import train_test_split\n",
    "\n",
    "X = features_df.drop('label', axis=1)  # Features\n",
    "y = features_df['label']  # Labels\n",
    "\n",
    "X_train, X_test, y_train, y_test = train_test_split(X, y, test_size=0.2, random_state=42)\n"
   ]
  },
  {
   "cell_type": "code",
   "execution_count": 26,
   "id": "d48fff8b-c670-4ffc-a6a5-802dc4623062",
   "metadata": {
    "tags": []
   },
   "outputs": [],
   "source": [
    "X_train = np.expand_dims(X_train, axis=2)  # Add a third dimension for time steps\n",
    "X_test = np.expand_dims(X_test, axis=2)"
   ]
  },
  {
   "cell_type": "code",
   "execution_count": 28,
   "id": "e892a901-080a-43ba-8420-0c4128dc1614",
   "metadata": {
    "tags": []
   },
   "outputs": [
    {
     "data": {
      "text/html": [
       "<pre style=\"white-space:pre;overflow-x:auto;line-height:normal;font-family:Menlo,'DejaVu Sans Mono',consolas,'Courier New',monospace\"><span style=\"font-weight: bold\">Model: \"sequential_2\"</span>\n",
       "</pre>\n"
      ],
      "text/plain": [
       "\u001b[1mModel: \"sequential_2\"\u001b[0m\n"
      ]
     },
     "metadata": {},
     "output_type": "display_data"
    },
    {
     "data": {
      "text/html": [
       "<pre style=\"white-space:pre;overflow-x:auto;line-height:normal;font-family:Menlo,'DejaVu Sans Mono',consolas,'Courier New',monospace\">┏━━━━━━━━━━━━━━━━━━━━━━━━━━━━━━━━━┳━━━━━━━━━━━━━━━━━━━━━━━━┳━━━━━━━━━━━━━━━┓\n",
       "┃<span style=\"font-weight: bold\"> Layer (type)                    </span>┃<span style=\"font-weight: bold\"> Output Shape           </span>┃<span style=\"font-weight: bold\">       Param # </span>┃\n",
       "┡━━━━━━━━━━━━━━━━━━━━━━━━━━━━━━━━━╇━━━━━━━━━━━━━━━━━━━━━━━━╇━━━━━━━━━━━━━━━┩\n",
       "│ lstm_2 (<span style=\"color: #0087ff; text-decoration-color: #0087ff\">LSTM</span>)                   │ (<span style=\"color: #00d7ff; text-decoration-color: #00d7ff\">None</span>, <span style=\"color: #00af00; text-decoration-color: #00af00\">128</span>)            │        <span style=\"color: #00af00; text-decoration-color: #00af00\">66,560</span> │\n",
       "├─────────────────────────────────┼────────────────────────┼───────────────┤\n",
       "│ dropout_2 (<span style=\"color: #0087ff; text-decoration-color: #0087ff\">Dropout</span>)             │ (<span style=\"color: #00d7ff; text-decoration-color: #00d7ff\">None</span>, <span style=\"color: #00af00; text-decoration-color: #00af00\">128</span>)            │             <span style=\"color: #00af00; text-decoration-color: #00af00\">0</span> │\n",
       "├─────────────────────────────────┼────────────────────────┼───────────────┤\n",
       "│ dense (<span style=\"color: #0087ff; text-decoration-color: #0087ff\">Dense</span>)                   │ (<span style=\"color: #00d7ff; text-decoration-color: #00d7ff\">None</span>, <span style=\"color: #00af00; text-decoration-color: #00af00\">7</span>)              │           <span style=\"color: #00af00; text-decoration-color: #00af00\">903</span> │\n",
       "└─────────────────────────────────┴────────────────────────┴───────────────┘\n",
       "</pre>\n"
      ],
      "text/plain": [
       "┏━━━━━━━━━━━━━━━━━━━━━━━━━━━━━━━━━┳━━━━━━━━━━━━━━━━━━━━━━━━┳━━━━━━━━━━━━━━━┓\n",
       "┃\u001b[1m \u001b[0m\u001b[1mLayer (type)                   \u001b[0m\u001b[1m \u001b[0m┃\u001b[1m \u001b[0m\u001b[1mOutput Shape          \u001b[0m\u001b[1m \u001b[0m┃\u001b[1m \u001b[0m\u001b[1m      Param #\u001b[0m\u001b[1m \u001b[0m┃\n",
       "┡━━━━━━━━━━━━━━━━━━━━━━━━━━━━━━━━━╇━━━━━━━━━━━━━━━━━━━━━━━━╇━━━━━━━━━━━━━━━┩\n",
       "│ lstm_2 (\u001b[38;5;33mLSTM\u001b[0m)                   │ (\u001b[38;5;45mNone\u001b[0m, \u001b[38;5;34m128\u001b[0m)            │        \u001b[38;5;34m66,560\u001b[0m │\n",
       "├─────────────────────────────────┼────────────────────────┼───────────────┤\n",
       "│ dropout_2 (\u001b[38;5;33mDropout\u001b[0m)             │ (\u001b[38;5;45mNone\u001b[0m, \u001b[38;5;34m128\u001b[0m)            │             \u001b[38;5;34m0\u001b[0m │\n",
       "├─────────────────────────────────┼────────────────────────┼───────────────┤\n",
       "│ dense (\u001b[38;5;33mDense\u001b[0m)                   │ (\u001b[38;5;45mNone\u001b[0m, \u001b[38;5;34m7\u001b[0m)              │           \u001b[38;5;34m903\u001b[0m │\n",
       "└─────────────────────────────────┴────────────────────────┴───────────────┘\n"
      ]
     },
     "metadata": {},
     "output_type": "display_data"
    },
    {
     "data": {
      "text/html": [
       "<pre style=\"white-space:pre;overflow-x:auto;line-height:normal;font-family:Menlo,'DejaVu Sans Mono',consolas,'Courier New',monospace\"><span style=\"font-weight: bold\"> Total params: </span><span style=\"color: #00af00; text-decoration-color: #00af00\">67,463</span> (263.53 KB)\n",
       "</pre>\n"
      ],
      "text/plain": [
       "\u001b[1m Total params: \u001b[0m\u001b[38;5;34m67,463\u001b[0m (263.53 KB)\n"
      ]
     },
     "metadata": {},
     "output_type": "display_data"
    },
    {
     "data": {
      "text/html": [
       "<pre style=\"white-space:pre;overflow-x:auto;line-height:normal;font-family:Menlo,'DejaVu Sans Mono',consolas,'Courier New',monospace\"><span style=\"font-weight: bold\"> Trainable params: </span><span style=\"color: #00af00; text-decoration-color: #00af00\">67,463</span> (263.53 KB)\n",
       "</pre>\n"
      ],
      "text/plain": [
       "\u001b[1m Trainable params: \u001b[0m\u001b[38;5;34m67,463\u001b[0m (263.53 KB)\n"
      ]
     },
     "metadata": {},
     "output_type": "display_data"
    },
    {
     "data": {
      "text/html": [
       "<pre style=\"white-space:pre;overflow-x:auto;line-height:normal;font-family:Menlo,'DejaVu Sans Mono',consolas,'Courier New',monospace\"><span style=\"font-weight: bold\"> Non-trainable params: </span><span style=\"color: #00af00; text-decoration-color: #00af00\">0</span> (0.00 B)\n",
       "</pre>\n"
      ],
      "text/plain": [
       "\u001b[1m Non-trainable params: \u001b[0m\u001b[38;5;34m0\u001b[0m (0.00 B)\n"
      ]
     },
     "metadata": {},
     "output_type": "display_data"
    },
    {
     "name": "stdout",
     "output_type": "stream",
     "text": [
      "None\n",
      "Epoch 1/50\n",
      "\u001b[1m70/70\u001b[0m \u001b[32m━━━━━━━━━━━━━━━━━━━━\u001b[0m\u001b[37m\u001b[0m \u001b[1m1s\u001b[0m 14ms/step - accuracy: 0.4686 - loss: 1.3547 - val_accuracy: 0.8518 - val_loss: 0.3927\n",
      "Epoch 2/50\n",
      "\u001b[1m70/70\u001b[0m \u001b[32m━━━━━━━━━━━━━━━━━━━━\u001b[0m\u001b[37m\u001b[0m \u001b[1m1s\u001b[0m 13ms/step - accuracy: 0.9087 - loss: 0.2861 - val_accuracy: 0.9357 - val_loss: 0.1955\n",
      "Epoch 3/50\n",
      "\u001b[1m70/70\u001b[0m \u001b[32m━━━━━━━━━━━━━━━━━━━━\u001b[0m\u001b[37m\u001b[0m \u001b[1m1s\u001b[0m 13ms/step - accuracy: 0.9430 - loss: 0.1914 - val_accuracy: 0.9375 - val_loss: 0.1693\n",
      "Epoch 4/50\n",
      "\u001b[1m70/70\u001b[0m \u001b[32m━━━━━━━━━━━━━━━━━━━━\u001b[0m\u001b[37m\u001b[0m \u001b[1m1s\u001b[0m 14ms/step - accuracy: 0.9398 - loss: 0.1874 - val_accuracy: 0.9482 - val_loss: 0.1600\n",
      "Epoch 5/50\n",
      "\u001b[1m70/70\u001b[0m \u001b[32m━━━━━━━━━━━━━━━━━━━━\u001b[0m\u001b[37m\u001b[0m \u001b[1m1s\u001b[0m 14ms/step - accuracy: 0.9516 - loss: 0.1430 - val_accuracy: 0.9411 - val_loss: 0.1507\n",
      "Epoch 6/50\n",
      "\u001b[1m70/70\u001b[0m \u001b[32m━━━━━━━━━━━━━━━━━━━━\u001b[0m\u001b[37m\u001b[0m \u001b[1m1s\u001b[0m 13ms/step - accuracy: 0.9671 - loss: 0.0965 - val_accuracy: 0.9393 - val_loss: 0.1809\n",
      "Epoch 7/50\n",
      "\u001b[1m70/70\u001b[0m \u001b[32m━━━━━━━━━━━━━━━━━━━━\u001b[0m\u001b[37m\u001b[0m \u001b[1m1s\u001b[0m 14ms/step - accuracy: 0.9722 - loss: 0.1079 - val_accuracy: 0.9643 - val_loss: 0.1133\n",
      "Epoch 8/50\n",
      "\u001b[1m70/70\u001b[0m \u001b[32m━━━━━━━━━━━━━━━━━━━━\u001b[0m\u001b[37m\u001b[0m \u001b[1m1s\u001b[0m 14ms/step - accuracy: 0.9775 - loss: 0.0738 - val_accuracy: 0.9607 - val_loss: 0.1225\n",
      "Epoch 9/50\n",
      "\u001b[1m70/70\u001b[0m \u001b[32m━━━━━━━━━━━━━━━━━━━━\u001b[0m\u001b[37m\u001b[0m \u001b[1m1s\u001b[0m 14ms/step - accuracy: 0.9831 - loss: 0.0557 - val_accuracy: 0.9607 - val_loss: 0.0990\n",
      "Epoch 10/50\n",
      "\u001b[1m70/70\u001b[0m \u001b[32m━━━━━━━━━━━━━━━━━━━━\u001b[0m\u001b[37m\u001b[0m \u001b[1m1s\u001b[0m 14ms/step - accuracy: 0.9842 - loss: 0.0645 - val_accuracy: 0.9393 - val_loss: 0.1724\n",
      "Epoch 11/50\n",
      "\u001b[1m70/70\u001b[0m \u001b[32m━━━━━━━━━━━━━━━━━━━━\u001b[0m\u001b[37m\u001b[0m \u001b[1m1s\u001b[0m 14ms/step - accuracy: 0.9841 - loss: 0.0611 - val_accuracy: 0.9518 - val_loss: 0.1213\n",
      "Epoch 12/50\n",
      "\u001b[1m70/70\u001b[0m \u001b[32m━━━━━━━━━━━━━━━━━━━━\u001b[0m\u001b[37m\u001b[0m \u001b[1m1s\u001b[0m 14ms/step - accuracy: 0.9770 - loss: 0.0639 - val_accuracy: 0.9732 - val_loss: 0.0820\n",
      "Epoch 13/50\n",
      "\u001b[1m70/70\u001b[0m \u001b[32m━━━━━━━━━━━━━━━━━━━━\u001b[0m\u001b[37m\u001b[0m \u001b[1m1s\u001b[0m 14ms/step - accuracy: 0.9887 - loss: 0.0375 - val_accuracy: 0.9750 - val_loss: 0.0719\n",
      "Epoch 14/50\n",
      "\u001b[1m70/70\u001b[0m \u001b[32m━━━━━━━━━━━━━━━━━━━━\u001b[0m\u001b[37m\u001b[0m \u001b[1m1s\u001b[0m 14ms/step - accuracy: 0.9873 - loss: 0.0427 - val_accuracy: 0.9696 - val_loss: 0.1026\n",
      "Epoch 15/50\n",
      "\u001b[1m70/70\u001b[0m \u001b[32m━━━━━━━━━━━━━━━━━━━━\u001b[0m\u001b[37m\u001b[0m \u001b[1m1s\u001b[0m 14ms/step - accuracy: 0.9830 - loss: 0.0475 - val_accuracy: 0.9714 - val_loss: 0.0974\n",
      "Epoch 16/50\n",
      "\u001b[1m70/70\u001b[0m \u001b[32m━━━━━━━━━━━━━━━━━━━━\u001b[0m\u001b[37m\u001b[0m \u001b[1m1s\u001b[0m 14ms/step - accuracy: 0.9913 - loss: 0.0369 - val_accuracy: 0.9464 - val_loss: 0.1967\n",
      "Epoch 17/50\n",
      "\u001b[1m70/70\u001b[0m \u001b[32m━━━━━━━━━━━━━━━━━━━━\u001b[0m\u001b[37m\u001b[0m \u001b[1m1s\u001b[0m 14ms/step - accuracy: 0.9718 - loss: 0.0778 - val_accuracy: 0.9714 - val_loss: 0.1005\n",
      "Epoch 18/50\n",
      "\u001b[1m70/70\u001b[0m \u001b[32m━━━━━━━━━━━━━━━━━━━━\u001b[0m\u001b[37m\u001b[0m \u001b[1m1s\u001b[0m 14ms/step - accuracy: 0.9949 - loss: 0.0214 - val_accuracy: 0.9750 - val_loss: 0.0684\n",
      "Epoch 19/50\n",
      "\u001b[1m70/70\u001b[0m \u001b[32m━━━━━━━━━━━━━━━━━━━━\u001b[0m\u001b[37m\u001b[0m \u001b[1m1s\u001b[0m 14ms/step - accuracy: 0.9875 - loss: 0.0464 - val_accuracy: 0.9625 - val_loss: 0.1053\n",
      "Epoch 20/50\n",
      "\u001b[1m70/70\u001b[0m \u001b[32m━━━━━━━━━━━━━━━━━━━━\u001b[0m\u001b[37m\u001b[0m \u001b[1m1s\u001b[0m 14ms/step - accuracy: 0.9866 - loss: 0.0414 - val_accuracy: 0.9607 - val_loss: 0.1147\n",
      "Epoch 21/50\n",
      "\u001b[1m70/70\u001b[0m \u001b[32m━━━━━━━━━━━━━━━━━━━━\u001b[0m\u001b[37m\u001b[0m \u001b[1m1s\u001b[0m 15ms/step - accuracy: 0.9871 - loss: 0.0474 - val_accuracy: 0.9661 - val_loss: 0.1128\n",
      "Epoch 22/50\n",
      "\u001b[1m70/70\u001b[0m \u001b[32m━━━━━━━━━━━━━━━━━━━━\u001b[0m\u001b[37m\u001b[0m \u001b[1m1s\u001b[0m 14ms/step - accuracy: 0.9898 - loss: 0.0279 - val_accuracy: 0.9750 - val_loss: 0.0982\n",
      "Epoch 23/50\n",
      "\u001b[1m70/70\u001b[0m \u001b[32m━━━━━━━━━━━━━━━━━━━━\u001b[0m\u001b[37m\u001b[0m \u001b[1m1s\u001b[0m 15ms/step - accuracy: 0.9918 - loss: 0.0263 - val_accuracy: 0.9714 - val_loss: 0.0908\n",
      "Epoch 24/50\n",
      "\u001b[1m70/70\u001b[0m \u001b[32m━━━━━━━━━━━━━━━━━━━━\u001b[0m\u001b[37m\u001b[0m \u001b[1m1s\u001b[0m 14ms/step - accuracy: 0.9895 - loss: 0.0308 - val_accuracy: 0.9339 - val_loss: 0.1804\n",
      "Epoch 25/50\n",
      "\u001b[1m70/70\u001b[0m \u001b[32m━━━━━━━━━━━━━━━━━━━━\u001b[0m\u001b[37m\u001b[0m \u001b[1m1s\u001b[0m 14ms/step - accuracy: 0.9725 - loss: 0.1037 - val_accuracy: 0.9696 - val_loss: 0.0790\n",
      "Epoch 26/50\n",
      "\u001b[1m70/70\u001b[0m \u001b[32m━━━━━━━━━━━━━━━━━━━━\u001b[0m\u001b[37m\u001b[0m \u001b[1m1s\u001b[0m 14ms/step - accuracy: 0.9923 - loss: 0.0210 - val_accuracy: 0.9696 - val_loss: 0.0901\n",
      "Epoch 27/50\n",
      "\u001b[1m70/70\u001b[0m \u001b[32m━━━━━━━━━━━━━━━━━━━━\u001b[0m\u001b[37m\u001b[0m \u001b[1m1s\u001b[0m 14ms/step - accuracy: 0.9919 - loss: 0.0211 - val_accuracy: 0.9750 - val_loss: 0.0683\n",
      "Epoch 28/50\n",
      "\u001b[1m70/70\u001b[0m \u001b[32m━━━━━━━━━━━━━━━━━━━━\u001b[0m\u001b[37m\u001b[0m \u001b[1m1s\u001b[0m 14ms/step - accuracy: 0.9933 - loss: 0.0183 - val_accuracy: 0.9732 - val_loss: 0.0667\n",
      "Epoch 29/50\n",
      "\u001b[1m70/70\u001b[0m \u001b[32m━━━━━━━━━━━━━━━━━━━━\u001b[0m\u001b[37m\u001b[0m \u001b[1m1s\u001b[0m 14ms/step - accuracy: 0.9906 - loss: 0.0323 - val_accuracy: 0.9786 - val_loss: 0.0610\n",
      "Epoch 30/50\n",
      "\u001b[1m70/70\u001b[0m \u001b[32m━━━━━━━━━━━━━━━━━━━━\u001b[0m\u001b[37m\u001b[0m \u001b[1m1s\u001b[0m 14ms/step - accuracy: 0.9955 - loss: 0.0158 - val_accuracy: 0.9714 - val_loss: 0.0979\n",
      "Epoch 31/50\n",
      "\u001b[1m70/70\u001b[0m \u001b[32m━━━━━━━━━━━━━━━━━━━━\u001b[0m\u001b[37m\u001b[0m \u001b[1m1s\u001b[0m 14ms/step - accuracy: 0.9982 - loss: 0.0083 - val_accuracy: 0.9804 - val_loss: 0.0727\n",
      "Epoch 32/50\n",
      "\u001b[1m70/70\u001b[0m \u001b[32m━━━━━━━━━━━━━━━━━━━━\u001b[0m\u001b[37m\u001b[0m \u001b[1m1s\u001b[0m 14ms/step - accuracy: 0.9951 - loss: 0.0199 - val_accuracy: 0.9839 - val_loss: 0.0647\n",
      "Epoch 33/50\n",
      "\u001b[1m70/70\u001b[0m \u001b[32m━━━━━━━━━━━━━━━━━━━━\u001b[0m\u001b[37m\u001b[0m \u001b[1m1s\u001b[0m 14ms/step - accuracy: 0.9983 - loss: 0.0069 - val_accuracy: 0.9750 - val_loss: 0.0708\n",
      "Epoch 34/50\n",
      "\u001b[1m70/70\u001b[0m \u001b[32m━━━━━━━━━━━━━━━━━━━━\u001b[0m\u001b[37m\u001b[0m \u001b[1m1s\u001b[0m 14ms/step - accuracy: 0.9967 - loss: 0.0083 - val_accuracy: 0.9786 - val_loss: 0.0903\n",
      "Epoch 35/50\n",
      "\u001b[1m70/70\u001b[0m \u001b[32m━━━━━━━━━━━━━━━━━━━━\u001b[0m\u001b[37m\u001b[0m \u001b[1m1s\u001b[0m 14ms/step - accuracy: 0.9972 - loss: 0.0077 - val_accuracy: 0.9750 - val_loss: 0.0776\n",
      "Epoch 36/50\n",
      "\u001b[1m70/70\u001b[0m \u001b[32m━━━━━━━━━━━━━━━━━━━━\u001b[0m\u001b[37m\u001b[0m \u001b[1m1s\u001b[0m 14ms/step - accuracy: 0.9978 - loss: 0.0066 - val_accuracy: 0.9714 - val_loss: 0.1079\n",
      "Epoch 37/50\n",
      "\u001b[1m70/70\u001b[0m \u001b[32m━━━━━━━━━━━━━━━━━━━━\u001b[0m\u001b[37m\u001b[0m \u001b[1m1s\u001b[0m 14ms/step - accuracy: 0.9895 - loss: 0.0348 - val_accuracy: 0.9750 - val_loss: 0.0677\n",
      "Epoch 38/50\n",
      "\u001b[1m70/70\u001b[0m \u001b[32m━━━━━━━━━━━━━━━━━━━━\u001b[0m\u001b[37m\u001b[0m \u001b[1m1s\u001b[0m 14ms/step - accuracy: 0.9924 - loss: 0.0232 - val_accuracy: 0.9625 - val_loss: 0.0997\n",
      "Epoch 39/50\n",
      "\u001b[1m70/70\u001b[0m \u001b[32m━━━━━━━━━━━━━━━━━━━━\u001b[0m\u001b[37m\u001b[0m \u001b[1m1s\u001b[0m 15ms/step - accuracy: 0.9895 - loss: 0.0363 - val_accuracy: 0.9786 - val_loss: 0.0795\n",
      "Epoch 40/50\n",
      "\u001b[1m70/70\u001b[0m \u001b[32m━━━━━━━━━━━━━━━━━━━━\u001b[0m\u001b[37m\u001b[0m \u001b[1m1s\u001b[0m 14ms/step - accuracy: 0.9953 - loss: 0.0122 - val_accuracy: 0.9786 - val_loss: 0.0962\n",
      "Epoch 41/50\n",
      "\u001b[1m70/70\u001b[0m \u001b[32m━━━━━━━━━━━━━━━━━━━━\u001b[0m\u001b[37m\u001b[0m \u001b[1m1s\u001b[0m 14ms/step - accuracy: 0.9980 - loss: 0.0099 - val_accuracy: 0.9768 - val_loss: 0.0819\n",
      "Epoch 42/50\n",
      "\u001b[1m70/70\u001b[0m \u001b[32m━━━━━━━━━━━━━━━━━━━━\u001b[0m\u001b[37m\u001b[0m \u001b[1m1s\u001b[0m 14ms/step - accuracy: 0.9990 - loss: 0.0046 - val_accuracy: 0.9768 - val_loss: 0.0819\n",
      "Epoch 43/50\n",
      "\u001b[1m70/70\u001b[0m \u001b[32m━━━━━━━━━━━━━━━━━━━━\u001b[0m\u001b[37m\u001b[0m \u001b[1m1s\u001b[0m 15ms/step - accuracy: 0.9988 - loss: 0.0045 - val_accuracy: 0.9804 - val_loss: 0.0764\n",
      "Epoch 44/50\n",
      "\u001b[1m70/70\u001b[0m \u001b[32m━━━━━━━━━━━━━━━━━━━━\u001b[0m\u001b[37m\u001b[0m \u001b[1m1s\u001b[0m 14ms/step - accuracy: 0.9989 - loss: 0.0030 - val_accuracy: 0.9804 - val_loss: 0.0734\n",
      "Epoch 45/50\n",
      "\u001b[1m70/70\u001b[0m \u001b[32m━━━━━━━━━━━━━━━━━━━━\u001b[0m\u001b[37m\u001b[0m \u001b[1m1s\u001b[0m 14ms/step - accuracy: 0.9991 - loss: 0.0024 - val_accuracy: 0.9821 - val_loss: 0.0727\n",
      "Epoch 46/50\n",
      "\u001b[1m70/70\u001b[0m \u001b[32m━━━━━━━━━━━━━━━━━━━━\u001b[0m\u001b[37m\u001b[0m \u001b[1m1s\u001b[0m 14ms/step - accuracy: 0.9979 - loss: 0.0028 - val_accuracy: 0.9821 - val_loss: 0.0698\n",
      "Epoch 47/50\n",
      "\u001b[1m70/70\u001b[0m \u001b[32m━━━━━━━━━━━━━━━━━━━━\u001b[0m\u001b[37m\u001b[0m \u001b[1m1s\u001b[0m 14ms/step - accuracy: 0.9997 - loss: 0.0011 - val_accuracy: 0.9821 - val_loss: 0.0671\n",
      "Epoch 48/50\n",
      "\u001b[1m70/70\u001b[0m \u001b[32m━━━━━━━━━━━━━━━━━━━━\u001b[0m\u001b[37m\u001b[0m \u001b[1m1s\u001b[0m 14ms/step - accuracy: 0.9992 - loss: 0.0017 - val_accuracy: 0.9821 - val_loss: 0.0671\n",
      "Epoch 49/50\n",
      "\u001b[1m70/70\u001b[0m \u001b[32m━━━━━━━━━━━━━━━━━━━━\u001b[0m\u001b[37m\u001b[0m \u001b[1m1s\u001b[0m 14ms/step - accuracy: 0.9992 - loss: 0.0016 - val_accuracy: 0.9821 - val_loss: 0.0681\n",
      "Epoch 50/50\n",
      "\u001b[1m70/70\u001b[0m \u001b[32m━━━━━━━━━━━━━━━━━━━━\u001b[0m\u001b[37m\u001b[0m \u001b[1m1s\u001b[0m 14ms/step - accuracy: 0.9997 - loss: 7.0340e-04 - val_accuracy: 0.9821 - val_loss: 0.0670\n"
     ]
    }
   ],
   "source": [
    "from tensorflow.keras.models import Sequential\n",
    "from tensorflow.keras.layers import LSTM, Dense, Dropout\n",
    "\n",
    "emotions = ['angry', 'disgust', 'fear', 'happy', 'neutral', 'pleasant_surprise', 'sad']\n",
    "\n",
    "# Initialize RNN model\n",
    "model = Sequential()\n",
    "\n",
    "# Add LSTM layer\n",
    "model.add(LSTM(units=128, input_shape=(X_train.shape[1], X_train.shape[2])))\n",
    "\n",
    "# Optional: Add Dropout layer for regularization\n",
    "model.add(Dropout(0.2))\n",
    "\n",
    "# Add output layer\n",
    "model.add(Dense(units=len(emotions), activation='softmax'))\n",
    "\n",
    "# Compile model\n",
    "model.compile(optimizer='adam', loss='sparse_categorical_crossentropy', metrics=['accuracy'])\n",
    "\n",
    "# Print model summary\n",
    "print(model.summary())\n",
    "\n",
    "# Train model\n",
    "history = model.fit(X_train, y_train, epochs=50, batch_size=32, validation_data=(X_test, y_test))\n"
   ]
  },
  {
   "cell_type": "code",
   "execution_count": 29,
   "id": "9727efe2-04f6-4bd1-b31b-63e3c2a08d0e",
   "metadata": {
    "tags": []
   },
   "outputs": [
    {
     "name": "stdout",
     "output_type": "stream",
     "text": [
      "\u001b[1m18/18\u001b[0m \u001b[32m━━━━━━━━━━━━━━━━━━━━\u001b[0m\u001b[37m\u001b[0m \u001b[1m0s\u001b[0m 5ms/step - accuracy: 0.9766 - loss: 0.1064\n",
      "Test Loss: 0.0670\n",
      "Test Accuracy: 0.9821\n"
     ]
    }
   ],
   "source": [
    "# Evaluate model on test data\n",
    "loss, accuracy = model.evaluate(X_test, y_test)\n",
    "\n",
    "print(f\"Test Loss: {loss:.4f}\")\n",
    "print(f\"Test Accuracy: {accuracy:.4f}\")\n"
   ]
  },
  {
   "cell_type": "code",
   "execution_count": 30,
   "id": "78d074f1-28d1-4982-b933-3705e9d5650c",
   "metadata": {
    "tags": []
   },
   "outputs": [
    {
     "data": {
      "image/png": "[encoded data removed]",
      "text/plain": [
       "<Figure size 1000x500 with 1 Axes>"
      ]
     },
     "metadata": {},
     "output_type": "display_data"
    }
   ],
   "source": [
    "\n",
    "# Plot training history\n",
    "plt.figure(figsize=(10, 5))\n",
    "plt.plot(history.history['accuracy'], label='Train Accuracy')\n",
    "plt.plot(history.history['val_accuracy'], label='Validation Accuracy')\n",
    "plt.title('Training and Validation Accuracy')\n",
    "plt.xlabel('Epoch')\n",
    "plt.ylabel('Accuracy')\n",
    "plt.legend()\n",
    "plt.show()\n"
   ]
  },
  {
   "cell_type": "code",
   "execution_count": 31,
   "id": "15bceb5c-4f56-4f74-b7b3-7574b87078b7",
   "metadata": {
    "tags": []
   },
   "outputs": [],
   "source": [
    "def predict_emotion(model, file_path, emotions):\n",
    "    \"\"\"\n",
    "    Function to predict emotion from audio file using a trained RNN model.\n",
    "    \n",
    "    Parameters:\n",
    "    - model (tensorflow.keras.models.Sequential): Trained RNN model.\n",
    "    - file_path (str): Path to audio file.\n",
    "    - emotions (list): List of emotion labels.\n",
    "    \n",
    "    Returns:\n",
    "    - str: Predicted emotion label.\n",
    "    \"\"\"\n",
    "    # Extract features from audio file\n",
    "    features = extract_features(file_path)\n",
    "    \n",
    "    # Reshape features for RNN input\n",
    "    features = np.expand_dims(features, axis=0)  # Add batch dimension\n",
    "    features = np.expand_dims(features, axis=2)  # Add time dimension\n",
    "    \n",
    "    # Predict emotion using the model\n",
    "    predicted_probabilities = model.predict(features)\n",
    "    predicted_label_index = np.argmax(predicted_probabilities)\n",
    "    predicted_emotion = emotions[predicted_label_index]\n",
    "    \n",
    "    return predicted_emotion"
   ]
  },
  {
   "cell_type": "code",
   "execution_count": 42,
   "id": "689e861f-ff2a-44f5-8018-5a8a717e4dea",
   "metadata": {
    "tags": []
   },
   "outputs": [
    {
     "name": "stdout",
     "output_type": "stream",
     "text": [
      "\u001b[1m1/1\u001b[0m \u001b[32m━━━━━━━━━━━━━━━━━━━━\u001b[0m\u001b[37m\u001b[0m \u001b[1m0s\u001b[0m 17ms/step\n",
      "Predicted Emotion: disgust\n"
     ]
    }
   ],
   "source": [
    "# Define emotions list\n",
    "emotions = ['angry', 'disgust', 'fear', 'happy', 'neutral', 'pleasant_surprise', 'sad']\n",
    "\n",
    "# Example usage: Predict emotion fr/om a test audio file\n",
    "file_path = '/Users/gaayatripradeep/Downloads/ALL/JE_h11.wav'  # Replace with your actual audio file path\n",
    "predicted_emotion = predict_emotion(model, file_path, emotions)\n",
    "\n",
    "print(f\"Predicted Emotion: {predicted_emotion}\")"
   ]
  },
  {
   "cell_type": "code",
   "execution_count": 45,
   "id": "bc8ff61c-d61a-4ebe-a824-897d4a86e740",
   "metadata": {
    "tags": []
   },
   "outputs": [
    {
     "name": "stderr",
     "output_type": "stream",
     "text": [
      "WARNING:absl:You are saving your model as an HDF5 file via `model.save()` or `keras.saving.save_model(model)`. This file format is considered legacy. We recommend using instead the native Keras format, e.g. `model.save('my_model.keras')` or `keras.saving.save_model(model, 'my_model.keras')`. \n"
     ]
    }
   ],
   "source": [
    "model.save('/Users/gaayatripradeep/Desktop/Projects/Speech Emotion Recognition/model.h5')"
   ]
  },
  {
   "cell_type": "code",
   "execution_count": 43,
   "id": "243b4fea-b815-49f6-bb7b-70e0b489387c",
   "metadata": {
    "tags": []
   },
   "outputs": [
    {
     "data": {
      "text/plain": [
       "'/Users/gaayatripradeep/Desktop/Projects/Speech Emotion Recognition'"
      ]
     },
     "execution_count": 43,
     "metadata": {},
     "output_type": "execute_result"
    }
   ],
   "source": [
    "os.getcwd()"
   ]
  },
  {
   "cell_type": "code",
   "execution_count": null,
   "id": "6fe2aa0f-b9be-45fa-b351-f0010e2c6a1d",
   "metadata": {},
   "outputs": [],
   "source": []
  }
 ],
 "metadata": {
  "kernelspec": {
   "display_name": "Python 3 (ipykernel)",
   "language": "python",
   "name": "python3"
  },
  "language_info": {
   "codemirror_mode": {
    "name": "ipython",
    "version": 3
   },
   "file_extension": ".py",
   "mimetype": "text/x-python",
   "name": "python",
   "nbconvert_exporter": "python",
   "pygments_lexer": "ipython3",
   "version": "3.11.3"
  }
 },
 "nbformat": 4,
 "nbformat_minor": 5
}
